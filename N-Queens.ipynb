{
 "cells": [
  {
   "cell_type": "code",
   "execution_count": 1,
   "id": "2034c117",
   "metadata": {},
   "outputs": [],
   "source": [
    "%load_ext autoreload\n",
    "%autoreload 2"
   ]
  },
  {
   "cell_type": "code",
   "execution_count": 2,
   "id": "a97a5ef0",
   "metadata": {},
   "outputs": [],
   "source": [
    "from ai_search.n_queens import NQueensState, NQueensProblem, NoQueenAttackHeuristic\n",
    "from ai_search.search import a_star_search, uniform_cost_search\n",
    "from ai_search.utils import print_path"
   ]
  },
  {
   "cell_type": "code",
   "execution_count": 3,
   "id": "e65aacb6",
   "metadata": {},
   "outputs": [],
   "source": [
    "n = 4\n",
    "state = NQueensState(board=[0]*n, n=n)\n",
    "problem = NQueensProblem(initial_state=state, n=n)"
   ]
  },
  {
   "cell_type": "code",
   "execution_count": 4,
   "id": "88e73932",
   "metadata": {},
   "outputs": [
    {
     "name": "stdout",
     "output_type": "stream",
     "text": [
      "Uniform Cost Search:\n",
      "Number of explored nodes: 228\n",
      "Q Q Q Q\n",
      ". . . .\n",
      ". . . .\n",
      ". . . .\n",
      "\n",
      ". Q Q Q\n",
      "Q . . .\n",
      ". . . .\n",
      ". . . .\n",
      "\n",
      ". . Q Q\n",
      "Q . . .\n",
      ". . . .\n",
      ". Q . .\n",
      "\n",
      ". . Q .\n",
      "Q . . .\n",
      ". . . Q\n",
      ". Q . .\n",
      "\n"
     ]
    }
   ],
   "source": [
    "node, no_explored = uniform_cost_search(problem)\n",
    "\n",
    "print(\"Uniform Cost Search:\")\n",
    "print(f\"Number of explored nodes: {no_explored}\")\n",
    "print_path(node)"
   ]
  },
  {
   "cell_type": "code",
   "execution_count": 5,
   "id": "86e3d32f",
   "metadata": {},
   "outputs": [],
   "source": [
    "heuristic = NoQueenAttackHeuristic()\n",
    "node, no_explored = a_star_search(problem, heuristic)"
   ]
  },
  {
   "cell_type": "code",
   "execution_count": 6,
   "id": "291a9256",
   "metadata": {},
   "outputs": [
    {
     "name": "stdout",
     "output_type": "stream",
     "text": [
      "A* Search with NoQueenAttackHeuristic:\n",
      "Number of explored nodes: 5\n",
      "Q Q Q Q\n",
      ". . . .\n",
      ". . . .\n",
      ". . . .\n",
      "\n",
      "Q . Q Q\n",
      ". . . .\n",
      ". . . .\n",
      ". Q . .\n",
      "\n",
      ". . Q Q\n",
      "Q . . .\n",
      ". . . .\n",
      ". Q . .\n",
      "\n",
      ". . Q .\n",
      "Q . . .\n",
      ". . . Q\n",
      ". Q . .\n",
      "\n"
     ]
    }
   ],
   "source": [
    "print(\"A* Search with NoQueenAttackHeuristic:\")\n",
    "print(f\"Number of explored nodes: {no_explored}\")\n",
    "print_path(node)"
   ]
  }
 ],
 "metadata": {
  "kernelspec": {
   "display_name": "ai-search-algorithms",
   "language": "python",
   "name": "python3"
  },
  "language_info": {
   "codemirror_mode": {
    "name": "ipython",
    "version": 3
   },
   "file_extension": ".py",
   "mimetype": "text/x-python",
   "name": "python",
   "nbconvert_exporter": "python",
   "pygments_lexer": "ipython3",
   "version": "3.11.11"
  }
 },
 "nbformat": 4,
 "nbformat_minor": 5
}

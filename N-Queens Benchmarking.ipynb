{
 "cells": [
  {
   "cell_type": "code",
   "execution_count": 1,
   "id": "1ca28f49",
   "metadata": {},
   "outputs": [],
   "source": [
    "from ai_search.n_queens import NQueensState, NQueensProblem, NoQueenAttackHeuristic, NoQueenRowAttackHeuristic\n",
    "from ai_search.search import a_star_search, uniform_cost_search\n",
    "import numpy as np\n",
    "from tqdm.auto import tqdm"
   ]
  },
  {
   "cell_type": "code",
   "execution_count": 2,
   "id": "4b559471",
   "metadata": {},
   "outputs": [
    {
     "data": {
      "application/vnd.jupyter.widget-view+json": {
       "model_id": "29cfc1b3318c4cd2b7be8c864ef73c9e",
       "version_major": 2,
       "version_minor": 0
      },
      "text/plain": [
       "  0%|          | 0/10 [00:00<?, ?it/s]"
      ]
     },
     "metadata": {},
     "output_type": "display_data"
    },
    {
     "name": "stdout",
     "output_type": "stream",
     "text": [
      "Uniform Cost Search: Average number of explored nodes over 10 trials: 171973.20\n",
      "A* Search (No Queen Row Attack Heuristic): Average number of explored nodes over 10 trials: 5165.00\n",
      "A* Search (No Queen Attack Heuristic): Average number of explored nodes over 10 trials: 52.60\n"
     ]
    }
   ],
   "source": [
    "np.random.seed(42)\n",
    "num_trials = 10\n",
    "n = 8\n",
    "\n",
    "uniform_cost_no_explored_list = []\n",
    "attacks_heuristic_a_star_no_explored_list = []\n",
    "row_attacks_heuristic_a_star_no_explored_list = []\n",
    "\n",
    "for _ in tqdm(range(num_trials)):\n",
    "    random_board = np.random.randint(0, n, size=n).tolist()\n",
    "    state = NQueensState(board=random_board, n=n)\n",
    "    problem = NQueensProblem(initial_state=state, n=n)\n",
    "\n",
    "    _, uniform_cost_no_explored = uniform_cost_search(problem)\n",
    "    _, attacks_heuristic_a_star_no_explored = a_star_search(problem, NoQueenAttackHeuristic())\n",
    "    _, row_attacks_heuristic_a_star_no_explored = a_star_search(problem, NoQueenRowAttackHeuristic())\n",
    "\n",
    "    uniform_cost_no_explored_list.append(uniform_cost_no_explored)\n",
    "    attacks_heuristic_a_star_no_explored_list.append(attacks_heuristic_a_star_no_explored)\n",
    "    row_attacks_heuristic_a_star_no_explored_list.append(row_attacks_heuristic_a_star_no_explored)\n",
    "\n",
    "print(f\"Uniform Cost Search: Average number of explored nodes over {num_trials} trials: {np.mean(uniform_cost_no_explored_list):.2f}\")\n",
    "print(f\"A* Search (No Queen Row Attack Heuristic): Average number of explored nodes over {num_trials} trials: {np.mean(row_attacks_heuristic_a_star_no_explored_list):.2f}\")\n",
    "print(f\"A* Search (No Queen Attack Heuristic): Average number of explored nodes over {num_trials} trials: {np.mean(attacks_heuristic_a_star_no_explored_list):.2f}\")\n"
   ]
  }
 ],
 "metadata": {
  "kernelspec": {
   "display_name": "ai-search-algorithms",
   "language": "python",
   "name": "python3"
  },
  "language_info": {
   "codemirror_mode": {
    "name": "ipython",
    "version": 3
   },
   "file_extension": ".py",
   "mimetype": "text/x-python",
   "name": "python",
   "nbconvert_exporter": "python",
   "pygments_lexer": "ipython3",
   "version": "3.11.13"
  }
 },
 "nbformat": 4,
 "nbformat_minor": 5
}

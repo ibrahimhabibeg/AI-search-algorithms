{
 "cells": [
  {
   "cell_type": "code",
   "execution_count": 3,
   "id": "1ca28f49",
   "metadata": {},
   "outputs": [
    {
     "name": "stderr",
     "output_type": "stream",
     "text": [
      "/Users/ibrahimhabib/Desktop/development/AI-search-algorithms/.venv/lib/python3.11/site-packages/tqdm/auto.py:21: TqdmWarning: IProgress not found. Please update jupyter and ipywidgets. See https://ipywidgets.readthedocs.io/en/stable/user_install.html\n",
      "  from .autonotebook import tqdm as notebook_tqdm\n"
     ]
    }
   ],
   "source": [
    "from ai_search.n_queens import NQueensState, NQueensProblem, NoQueenAttackHeuristic, NoQueenRowAttackHeuristic\n",
    "from ai_search.search import a_star_search, uniform_cost_search\n",
    "import numpy as np\n",
    "from tqdm.auto import tqdm"
   ]
  },
  {
   "cell_type": "code",
   "execution_count": null,
   "id": "4b559471",
   "metadata": {},
   "outputs": [
    {
     "name": "stderr",
     "output_type": "stream",
     "text": [
      "100%|██████████| 1/1 [00:09<00:00,  9.70s/it]"
     ]
    },
    {
     "name": "stdout",
     "output_type": "stream",
     "text": [
      "Uniform Cost Search: Average number of explored nodes over 1 trials: 117898.00\n",
      "A* Search (No Queen Row Attack Heuristic): Average number of explored nodes over 1 trials: 1465.00\n",
      "A* Search (No Queen Attack Heuristic): Average number of explored nodes over 1 trials: 51.00\n"
     ]
    },
    {
     "name": "stderr",
     "output_type": "stream",
     "text": [
      "\n"
     ]
    }
   ],
   "source": [
    "np.random.seed(42)\n",
    "num_trials = 10\n",
    "n = 8\n",
    "\n",
    "uniform_cost_no_explored_list = []\n",
    "attacks_heuristic_a_star_no_explored_list = []\n",
    "row_attacks_heuristic_a_star_no_explored_list = []\n",
    "\n",
    "for _ in tqdm(range(num_trials)):\n",
    "    random_board = np.random.randint(0, n, size=n).tolist()\n",
    "    state = NQueensState(board=random_board, n=n)\n",
    "    problem = NQueensProblem(initial_state=state, n=n)\n",
    "\n",
    "    _, uniform_cost_no_explored = uniform_cost_search(problem)\n",
    "    _, attacks_heuristic_a_star_no_explored = a_star_search(problem, NoQueenAttackHeuristic())\n",
    "    _, row_attacks_heuristic_a_star_no_explored = a_star_search(problem, NoQueenRowAttackHeuristic())\n",
    "\n",
    "    uniform_cost_no_explored_list.append(uniform_cost_no_explored)\n",
    "    attacks_heuristic_a_star_no_explored_list.append(attacks_heuristic_a_star_no_explored)\n",
    "    row_attacks_heuristic_a_star_no_explored_list.append(row_attacks_heuristic_a_star_no_explored)\n",
    "\n",
    "print(f\"Uniform Cost Search: Average number of explored nodes over {num_trials} trials: {np.mean(uniform_cost_no_explored_list):.2f}\")\n",
    "print(f\"A* Search (No Queen Row Attack Heuristic): Average number of explored nodes over {num_trials} trials: {np.mean(row_attacks_heuristic_a_star_no_explored_list):.2f}\")\n",
    "print(f\"A* Search (No Queen Attack Heuristic): Average number of explored nodes over {num_trials} trials: {np.mean(attacks_heuristic_a_star_no_explored_list):.2f}\")\n"
   ]
  }
 ],
 "metadata": {
  "kernelspec": {
   "display_name": "ai-search-algorithms",
   "language": "python",
   "name": "python3"
  },
  "language_info": {
   "codemirror_mode": {
    "name": "ipython",
    "version": 3
   },
   "file_extension": ".py",
   "mimetype": "text/x-python",
   "name": "python",
   "nbconvert_exporter": "python",
   "pygments_lexer": "ipython3",
   "version": "3.11.11"
  }
 },
 "nbformat": 4,
 "nbformat_minor": 5
}
